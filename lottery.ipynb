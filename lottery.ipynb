{
 "cells": [
  {
   "cell_type": "code",
   "execution_count": null,
   "metadata": {},
   "outputs": [],
   "source": [
    "urls = input(\"Please enter the website of an Facebook post:\")"
   ]
  },
  {
   "cell_type": "code",
   "execution_count": null,
   "metadata": {},
   "outputs": [],
   "source": [
    "from selenium import webdriver\n",
    "from selenium.webdriver.chrome.service import Service\n",
    "options = webdriver.ChromeOptions()\n",
    "prefs = {'profile.default_content_setting_values':{'notifications': 2}}\n",
    "options.add_experimental_option('prefs', prefs)"
   ]
  },
  {
   "cell_type": "code",
   "execution_count": null,
   "metadata": {
    "scrolled": false
   },
   "outputs": [],
   "source": [
    "username = input(\"Please enter your email or phone number:\")\n",
    "password = input(\"Please enter your password:\")\n",
    "\n",
    "s = Service('C:\\Program Files (x86)\\Google\\Chrome\\Application\\chromedriver.exe')\n",
    "driver = webdriver.Chrome(service = s, options = options)\n",
    "driver.get('https://www.facebook.com/')\n",
    "driver.find_element_by_id('email').send_keys(username)\n",
    "driver.find_element_by_id('pass').send_keys(password)\n",
    "driver.find_element_by_name('login').click()"
   ]
  },
  {
   "cell_type": "code",
   "execution_count": null,
   "metadata": {},
   "outputs": [],
   "source": [
    "import pandas as pd\n",
    "\n",
    "collect_comment = pd.DataFrame()\n",
    "collect_fb = pd.DataFrame()"
   ]
  },
  {
   "cell_type": "code",
   "execution_count": null,
   "metadata": {},
   "outputs": [],
   "source": [
    "# 導覽到指定貼文網址\n",
    "driver.get(urls)"
   ]
  },
  {
   "cell_type": "code",
   "execution_count": null,
   "metadata": {},
   "outputs": [],
   "source": [
    "# 將最相關留言改成所有留言\n",
    "import time\n",
    "from time import sleep\n",
    "\n",
    "time.sleep(2)\n",
    "driver.find_element_by_xpath(\"//div[@class = 'bp9cbjyn j83agx80 kvgmc6g5 cxmmr5t8 oygrvhab hcukyx3x h3fqq6jp']\").click()\n",
    "time.sleep(2)\n",
    "driver.find_elements_by_xpath(\"//div[@class = 'oajrlxb2 g5ia77u1 qu0x051f esr5mh6w e9989ue4 r7d6kgcz p7hjln8o esuyzwwr f1sip0of n00je7tq arfg74bv qs9ysxi8 k77z8yql abiwlrkh p8dawk7l lzcic4wl dwo3fsh8 rq0escxv nhd2j8a9 j83agx80 btwxx1t3 pfnyh3mw opuu4ng7 kj2yoqh6 kvgmc6g5 oygrvhab pybr56ya dflh9lhu f10w8fjw scb9dxdr l9j0dhe7 i1ao9s8h du4w35lb bp9cbjyn']\")[2].click()\n",
    "time.sleep(2)"
   ]
  },
  {
   "cell_type": "code",
   "execution_count": null,
   "metadata": {},
   "outputs": [],
   "source": [
    "# 點開被隱藏的留言\n",
    "for i in range(50):\n",
    "    while(1):\n",
    "        time.sleep(1)\n",
    "        comment = driver.find_elements_by_xpath(\"//div[@class = 'oajrlxb2 g5ia77u1 mtkw9kbi tlpljxtp qensuy8j ppp5ayq2 goun2846 ccm00jje s44p3ltw mk2mc5f4 rt8b4zig n8ej3o3l agehan2d sk4xxmp2 rq0escxv nhd2j8a9 mg4g778l p7hjln8o kvgmc6g5 cxmmr5t8 oygrvhab hcukyx3x tgvbjcpo hpfvmrgz jb3vyjys qt6c0cv9 a8nywdso l9j0dhe7 i1ao9s8h esuyzwwr f1sip0of du4w35lb n00je7tq arfg74bv qs9ysxi8 k77z8yql pq6dq46d btwxx1t3 abiwlrkh lzcic4wl bp9cbjyn m9osqain buofh1pr g5gj957u p8fzw8mz gpro0wi8']\")\n",
    "        if(len(comment) == 0):\n",
    "            break\n",
    "        for btn in comment:\n",
    "            try:\n",
    "                btn.click()\n",
    "            except:\n",
    "                continue"
   ]
  },
  {
   "cell_type": "code",
   "execution_count": null,
   "metadata": {},
   "outputs": [],
   "source": [
    "from bs4 import BeautifulSoup\n",
    "soup = BeautifulSoup(driver.page_source)\n"
   ]
  },
  {
   "cell_type": "code",
   "execution_count": null,
   "metadata": {},
   "outputs": [],
   "source": [
    "# 將貼文留言爬下做成DataFrame\n",
    "import numpy as np\n",
    "\n",
    "divs = soup.find_all('div', class_='tw6a2znq sj5x9vvc d1544ag0 cxgpxx05')\n",
    "\n",
    "authors = []\n",
    "comments = []\n",
    "num_tagged = []\n",
    "for div in divs:\n",
    "    author = div.select_one('[class = \"d2edcug0 hpfvmrgz qv66sw1b c1et5uql lr9zc1uh a8c37x1j fe6kdd0r mau55g9w c8b282yb keod5gw0 nxhoafnm aigsh9s9 d9wwppkn mdeji52x e9vueds3 j5wam9gi lrazzd5p oo9gr5id\"]')\n",
    "    authors.append(author.getText())\n",
    "    comment = div.select('[class = \"kvgmc6g5 cxmmr5t8 oygrvhab hcukyx3x c1et5uql\"]')\n",
    "    if(len(comment) == 0):\n",
    "        comments.append('NULL')\n",
    "    else:\n",
    "        comments.append(comment[0].getText())\n",
    "    num = len(div.select('[class = \"nc684nl6\"]'))\n",
    "    num_tagged.append(num - 1)\n",
    "df_authors = pd.DataFrame(authors, columns = ['抽獎人'])\n",
    "df_comments = pd.DataFrame(comments, columns = ['留言'])\n",
    "df_num_tagged = pd.DataFrame(num_tagged, columns = ['標記'])\n",
    "df_result = pd.concat([df_authors, df_comments, df_num_tagged], axis = 1)\n",
    "df_result"
   ]
  },
  {
   "cell_type": "code",
   "execution_count": null,
   "metadata": {
    "scrolled": false
   },
   "outputs": [],
   "source": [
    "# 篩選標記人數>=2的抽獎者\n",
    "result = df_result[df_result['標記'] >= 2].reset_index(drop = True)\n",
    "result"
   ]
  },
  {
   "cell_type": "markdown",
   "metadata": {},
   "source": [
    "## 抽獎"
   ]
  },
  {
   "cell_type": "code",
   "execution_count": null,
   "metadata": {},
   "outputs": [],
   "source": [
    "num_prize = int(input(\"Number of Prizes:\"))\n",
    "prize = []\n",
    "for i in range(num_prize):\n",
    "    prize.append(input(\"Enter prize name. Click enter after finishing each name:\"))"
   ]
  },
  {
   "cell_type": "code",
   "execution_count": null,
   "metadata": {},
   "outputs": [],
   "source": [
    "import random\n",
    "for i in range(num_prize):\n",
    "    lottery = random.randint(1, len(result))\n",
    "    display(result.loc[[lottery]])\n",
    "    print('恭喜', result['抽獎人'][lottery], f'抽中{prize[i]}！')\n",
    "    result.drop(result.index[lottery]).reset_index(drop = True)"
   ]
  }
 ],
 "metadata": {
  "kernelspec": {
   "display_name": "Python 3",
   "language": "python",
   "name": "python3"
  },
  "language_info": {
   "codemirror_mode": {
    "name": "ipython",
    "version": 3
   },
   "file_extension": ".py",
   "mimetype": "text/x-python",
   "name": "python",
   "nbconvert_exporter": "python",
   "pygments_lexer": "ipython3",
   "version": "3.8.5"
  }
 },
 "nbformat": 4,
 "nbformat_minor": 4
}
